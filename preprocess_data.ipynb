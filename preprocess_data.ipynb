{
 "cells": [
  {
   "cell_type": "code",
   "execution_count": 1,
   "metadata": {},
   "outputs": [],
   "source": [
    "#IMPORT useful libraries to create and mofidy pandas frames.\n",
    "import pandas as pd\n",
    "import numpy as np\n",
    "import re"
   ]
  },
  {
   "cell_type": "code",
   "execution_count": 2,
   "metadata": {
    "scrolled": true
   },
   "outputs": [
    {
     "name": "stderr",
     "output_type": "stream",
     "text": [
      "/Users/Reid/opt/anaconda3/lib/python3.8/site-packages/IPython/core/interactiveshell.py:3071: DtypeWarning: Columns (15) have mixed types.Specify dtype option on import or set low_memory=False.\n",
      "  has_raised = await self.run_ast_nodes(code_ast.body, cell_name,\n"
     ]
    }
   ],
   "source": [
    "#read the csv files into pandas frame\n",
    "#D1_raw = pd.read_csv('2020_US_weekly_symptoms_dataset1.csv')\n",
    "D1_raw = pd.read_csv('d1_try.csv')\n",
    "D2_raw = pd.read_csv('aggregated_cc_by1.csv')"
   ]
  },
  {
   "cell_type": "code",
   "execution_count": 3,
   "metadata": {},
   "outputs": [],
   "source": [
    "#keep only US region-states in dataset 2.\n",
    "D2_raw = D2_raw[D2_raw['open_covid_region_code'].str.contains(\"US-\")]"
   ]
  },
  {
   "cell_type": "code",
   "execution_count": 4,
   "metadata": {},
   "outputs": [
    {
     "name": "stderr",
     "output_type": "stream",
     "text": [
      "<ipython-input-4-5e0b0171e473>:2: FutureWarning: The pandas.np module is deprecated and will be removed from pandas in a future version. Import numpy directly instead\n",
      "  D1_raw = D1_raw.replace(0, pd.np.nan)\n"
     ]
    },
    {
     "data": {
      "text/plain": [
       "(2040, 425)"
      ]
     },
     "execution_count": 4,
     "metadata": {},
     "output_type": "execute_result"
    }
   ],
   "source": [
    "#replace all zeros with np.nan to ease filtering.\n",
    "D1_raw = D1_raw.replace(0, pd.np.nan)\n",
    "\n",
    "#first remove all columns with more than 35% nan entires.\n",
    "limitPerC = len(D1_raw) * 0.35\n",
    "D1_raw = D1_raw.dropna(thresh=limitPerC,axis=1)\n",
    "\n",
    "#second, remove all rows with more than 10% nan entries too\n",
    "limitPerR = len(D1_raw.columns) * 0.1\n",
    "D1_raw = D1_raw.dropna(thresh=limitPerR,axis=0)\n",
    "D1_raw.shape"
   ]
  },
  {
   "cell_type": "code",
   "execution_count": 5,
   "metadata": {},
   "outputs": [],
   "source": [
    "#divide all columns containing symptoms by the mean of that feature to be able to compare with other regions.\n",
    "feature_names = D1_raw.filter(regex='symptom:*', axis=1).columns                                                                                                                                           \n",
    "D1_raw[feature_names] = D1_raw.groupby('open_covid_region_code').transform(lambda x: x / x.mean())[feature_names]"
   ]
  },
  {
   "cell_type": "code",
   "execution_count": 6,
   "metadata": {},
   "outputs": [],
   "source": [
    "#resample all the data from d2 to weekly and region (might no be necessary but wtv.)\n",
    "D2_raw['date'] = D2_raw['date'].astype('datetime64[ns]')\n",
    "D2_raw = D2_raw.groupby('open_covid_region_code').resample('W-Mon', label='right', closed = 'right', on='date',how='sum').sum().reset_index().sort_values(by='open_covid_region_code')"
   ]
  },
  {
   "cell_type": "code",
   "execution_count": 7,
   "metadata": {},
   "outputs": [],
   "source": [
    "#sort the whole d1-set to weekly and by region instead of daily (sum everything).\n",
    "D1_raw['date'] = D1_raw['date'].astype('datetime64[ns]')\n",
    "D1_raw = D1_raw.groupby('open_covid_region_code').resample('W-Mon', label='right', closed = 'right', on='date',how='sum').sum().reset_index().sort_values(by='open_covid_region_code')"
   ]
  },
  {
   "cell_type": "code",
   "execution_count": 8,
   "metadata": {},
   "outputs": [
    {
     "name": "stderr",
     "output_type": "stream",
     "text": [
      "<ipython-input-8-077484001461>:2: FutureWarning: The pandas.np module is deprecated and will be removed from pandas in a future version. Import numpy directly instead\n",
      "  D2_raw = D2_raw.replace(0, pd.np.nan)\n"
     ]
    }
   ],
   "source": [
    "#replace all zeros with np.nan to ease filtering.\n",
    "D2_raw = D2_raw.replace(0, pd.np.nan)\n",
    "\n",
    "#first remove all columns with more than 35% nan entires.\n",
    "limitPerC = len(D1_raw) * .35\n",
    "D2_raw = D2_raw.dropna(thresh=limitPerC,axis=1)\n",
    "\n",
    "#second, remove all rows with more than 10% nan entries too\n",
    "limitPerR = len(D2_raw.columns) * 0.1\n",
    "D2_raw = D2_raw.dropna(thresh=limitPerR,axis=0)"
   ]
  },
  {
   "cell_type": "code",
   "execution_count": 9,
   "metadata": {
    "scrolled": true
   },
   "outputs": [
    {
     "name": "stderr",
     "output_type": "stream",
     "text": [
      "<ipython-input-9-9daea2764eb6>:5: FutureWarning: The pandas.np module is deprecated and will be removed from pandas in a future version. Import numpy directly instead\n",
      "  df = df.replace(pd.np.nan,0.0)\n"
     ]
    },
    {
     "data": {
      "text/plain": [
       "(3846, 427)"
      ]
     },
     "execution_count": 9,
     "metadata": {},
     "output_type": "execute_result"
    }
   ],
   "source": [
    "#add the two datasets together and reindex\n",
    "df = D1_raw.append(D2_raw, ignore_index=True)\n",
    "\n",
    "#replace all the nan entries with 0.\n",
    "df = df.replace(pd.np.nan,0.0)\n",
    "df.shape"
   ]
  },
  {
   "cell_type": "code",
   "execution_count": 10,
   "metadata": {},
   "outputs": [],
   "source": [
    "#regroup based on region and date essentially adding all together\n",
    "df = df.groupby('open_covid_region_code').resample('W-Mon', label='right', closed = 'right', on='date',how='sum').sum().reset_index().sort_values(by='open_covid_region_code')"
   ]
  },
  {
   "cell_type": "code",
   "execution_count": 11,
   "metadata": {},
   "outputs": [
    {
     "data": {
      "text/plain": [
       "(2246, 427)"
      ]
     },
     "execution_count": 11,
     "metadata": {},
     "output_type": "execute_result"
    }
   ],
   "source": [
    "#sort based on region code and date\n",
    "df = df.sort_values(['open_covid_region_code', 'date'], ascending=[True, True])\n",
    "df.shape"
   ]
  },
  {
   "cell_type": "code",
   "execution_count": 12,
   "metadata": {},
   "outputs": [
    {
     "name": "stderr",
     "output_type": "stream",
     "text": [
      "<ipython-input-12-f6596ce7509d>:2: FutureWarning: The pandas.np module is deprecated and will be removed from pandas in a future version. Import numpy directly instead\n",
      "  df = df.replace(0, pd.np.nan)\n",
      "<ipython-input-12-f6596ce7509d>:7: FutureWarning: The pandas.np module is deprecated and will be removed from pandas in a future version. Import numpy directly instead\n",
      "  df = df.replace(pd.np.nan,0.0)\n"
     ]
    },
    {
     "data": {
      "text/plain": [
       "(993, 427)"
      ]
     },
     "execution_count": 12,
     "metadata": {},
     "output_type": "execute_result"
    }
   ],
   "source": [
    "#replace the dataframes 0s to nan, easier to sort later...\n",
    "df = df.replace(0, pd.np.nan)\n",
    "#delete rows, then columns, with 5% values with nan, just to filter one last time.\n",
    "limitPerR = len(df.columns) * 0.05\n",
    "df = df.dropna(thresh=limitPerR,axis=0)\n",
    "df = df.dropna(subset=['hospitalized_cumulative'])\n",
    "df = df.replace(pd.np.nan,0.0)\n",
    "df.shape"
   ]
  },
  {
   "cell_type": "code",
   "execution_count": 13,
   "metadata": {
    "scrolled": true
   },
   "outputs": [],
   "source": [
    "#save to the clean data\n",
    "df.to_csv(r'clean_data.csv')"
   ]
  },
  {
   "cell_type": "code",
   "execution_count": null,
   "metadata": {},
   "outputs": [],
   "source": []
  }
 ],
 "metadata": {
  "kernelspec": {
   "display_name": "Python 3",
   "language": "python",
   "name": "python3"
  },
  "language_info": {
   "codemirror_mode": {
    "name": "ipython",
    "version": 3
   },
   "file_extension": ".py",
   "mimetype": "text/x-python",
   "name": "python",
   "nbconvert_exporter": "python",
   "pygments_lexer": "ipython3",
   "version": "3.8.3"
  }
 },
 "nbformat": 4,
 "nbformat_minor": 4
}
